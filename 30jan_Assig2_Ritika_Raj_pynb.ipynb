{
  "nbformat": 4,
  "nbformat_minor": 0,
  "metadata": {
    "colab": {
      "provenance": [],
      "authorship_tag": "ABX9TyPOKuGC9arqTb6JL4aIk6CO",
      "include_colab_link": true
    },
    "kernelspec": {
      "name": "python3",
      "display_name": "Python 3"
    },
    "language_info": {
      "name": "python"
    }
  },
  "cells": [
    {
      "cell_type": "markdown",
      "metadata": {
        "id": "view-in-github",
        "colab_type": "text"
      },
      "source": [
        "<a href=\"https://colab.research.google.com/github/ritishri/Big_Data_Assignment/blob/main/30jan_Assig2_Ritika_Raj_pynb.ipynb\" target=\"_parent\"><img src=\"https://colab.research.google.com/assets/colab-badge.svg\" alt=\"Open In Colab\"/></a>"
      ]
    },
    {
      "cell_type": "code",
      "source": [
        "import numpy as np\n",
        "\n",
        "arr1 = np.array([1,2,3])\n",
        "arr2 = arr1[::-1]\n",
        "print(arr2)"
      ],
      "metadata": {
        "colab": {
          "base_uri": "https://localhost:8080/"
        },
        "id": "kvDsA3DiHaof",
        "outputId": "13dfeede-2877-4477-e11e-8d670dee4f26"
      },
      "execution_count": null,
      "outputs": [
        {
          "output_type": "stream",
          "name": "stdout",
          "text": [
            "[3 2 1]\n"
          ]
        }
      ]
    },
    {
      "cell_type": "code",
      "source": [
        "arr1 = np.array([[1, 2], [3, 4]])\n",
        "arr2 = np.array([[1, 2], [3, 4]])\n",
        "\n",
        "is_equal = np.array_equal(arr1, arr2)\n",
        "print(is_equal)"
      ],
      "metadata": {
        "colab": {
          "base_uri": "https://localhost:8080/"
        },
        "id": "-mHnEkBXHvUs",
        "outputId": "bc283ce9-4462-4314-d888-0211d929f758"
      },
      "execution_count": null,
      "outputs": [
        {
          "output_type": "stream",
          "name": "stdout",
          "text": [
            "True\n"
          ]
        }
      ]
    },
    {
      "cell_type": "code",
      "source": [
        "import numpy as np\n",
        "\n",
        "arr = np.matrix('[4, 1, 9; 12, 3, 1; 4, 5, 6]')\n",
        "sum1 = np.sum(arr)\n",
        "sum2 = np.sum(arr,axis=0)\n",
        "sum3 = np.sum(arr,axis=1)\n",
        "\n",
        "print(\"Sum of all ele\",sum1)\n",
        "print(\"Sum of all ele in row-wise\",sum2)\n",
        "print(\"Sum of all ele in col-wise\",sum3)"
      ],
      "metadata": {
        "colab": {
          "base_uri": "https://localhost:8080/"
        },
        "id": "-WHVJfzyNfcZ",
        "outputId": "f2c2296a-2f32-4ea5-b038-57f8b70a2284"
      },
      "execution_count": null,
      "outputs": [
        {
          "output_type": "stream",
          "name": "stdout",
          "text": [
            "Sum of all ele 45\n",
            "Sum of all ele in row-wise [[20  9 16]]\n",
            "Sum of all ele in col-wise [[14]\n",
            " [16]\n",
            " [15]]\n"
          ]
        }
      ]
    },
    {
      "cell_type": "code",
      "source": [
        "import numpy as np\n",
        "\n",
        "x = np.array([1, 2, 3, 4, 5, 1, 2, 2, 2, 1])\n",
        "y = np.array([1, 3, 3, 2, 3, 4, 2, 4, 3, 3])\n",
        "\n",
        "frequent_value1 = np.bincount(x).argmax()\n",
        "frequent_value2 = np.bincount(y).argmax()\n",
        "\n",
        "indices1 = np.where(x == frequent_value1)[0]\n",
        "indices2 = np.where(y == frequent_value2)[0]\n",
        "\n",
        "print(\"Most frequent value:\", frequent_value1)\n",
        "print(\"Indices of the most frequent value:\", indices1)\n",
        "\n",
        "print(\"Most frequent value:\", frequent_value2)\n",
        "print(\"Indices of the most frequent value:\", indices2)\n",
        "\n",
        "\n",
        "\n",
        "\n"
      ],
      "metadata": {
        "colab": {
          "base_uri": "https://localhost:8080/"
        },
        "id": "1jMRJZwvpQhl",
        "outputId": "56a52f19-a0d9-4a2c-ff69-3996057eba7d"
      },
      "execution_count": 10,
      "outputs": [
        {
          "output_type": "stream",
          "name": "stdout",
          "text": [
            "Most frequent value: 2\n",
            "Indices of the most frequent value: [1 6 7 8]\n",
            "Most frequent value: 3\n",
            "Indices of the most frequent value: [1 2 4 8 9]\n"
          ]
        }
      ]
    }
  ]
}